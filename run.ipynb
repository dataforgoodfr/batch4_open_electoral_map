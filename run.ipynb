{
 "cells": [
  {
   "cell_type": "code",
   "execution_count": 5,
   "metadata": {
    "collapsed": false
   },
   "outputs": [
    {
     "name": "stdout",
     "output_type": "stream",
     "text": [
      "The autoreload extension is already loaded. To reload it, use:\n",
      "  %reload_ext autoreload\n"
     ]
    }
   ],
   "source": [
    "%load_ext autoreload\n",
    "%autoreload 2\n",
    "\n",
    "from run import CirconscriptionBuilder"
   ]
  },
  {
   "cell_type": "code",
   "execution_count": 6,
   "metadata": {
    "collapsed": false
   },
   "outputs": [],
   "source": [
    "cb = CirconscriptionBuilder()"
   ]
  },
  {
   "cell_type": "code",
   "execution_count": 7,
   "metadata": {
    "collapsed": false
   },
   "outputs": [
    {
     "name": "stdout",
     "output_type": "stream",
     "text": [
      "Load shapefile...\n",
      "Get population counts per departement...\n"
     ]
    }
   ],
   "source": [
    "cb.load()"
   ]
  },
  {
   "cell_type": "code",
   "execution_count": 35,
   "metadata": {
    "collapsed": false
   },
   "outputs": [],
   "source": [
    "cb.calculate_circonscripitons_per_departement()"
   ]
  },
  {
   "cell_type": "code",
   "execution_count": null,
   "metadata": {
    "collapsed": true
   },
   "outputs": [],
   "source": []
  },
  {
   "cell_type": "code",
   "execution_count": 45,
   "metadata": {
    "collapsed": false
   },
   "outputs": [
    {
     "name": "stdout",
     "output_type": "stream",
     "text": [
      "Group the atom sets...\n"
     ]
    }
   ],
   "source": [
    "cb.prepare_atoms(by_departement=True, granualrity=\"communes\")"
   ]
  },
  {
   "cell_type": "code",
   "execution_count": 41,
   "metadata": {
    "collapsed": false
   },
   "outputs": [],
   "source": []
  },
  {
   "cell_type": "code",
   "execution_count": null,
   "metadata": {
    "collapsed": false
   },
   "outputs": [],
   "source": []
  },
  {
   "cell_type": "code",
   "execution_count": 74,
   "metadata": {
    "collapsed": false
   },
   "outputs": [
    {
     "name": "stdout",
     "output_type": "stream",
     "text": [
      "Group the atom sets...\n"
     ]
    }
   ],
   "source": [
    "cb.prepare_atoms(granualrity=\"iris\")"
   ]
  },
  {
   "cell_type": "code",
   "execution_count": 46,
   "metadata": {
    "collapsed": false
   },
   "outputs": [
    {
     "name": "stdout",
     "output_type": "stream",
     "text": [
      "Dissolve the communes...\n",
      "Group the atom sets...\n"
     ]
    }
   ],
   "source": [
    "cb.prepare_atoms(granualrity=\"commune\")"
   ]
  },
  {
   "cell_type": "code",
   "execution_count": 75,
   "metadata": {
    "collapsed": false
   },
   "outputs": [
    {
     "data": {
      "text/plain": [
       "dict_keys(['01', '02', '03', '04', '05', '06', '07', '08', '09', '10', '11', '12', '13', '14', '15', '16', '17', '18', '19', '2A', '2B', '21', '22', '23', '24', '25', '26', '27', '28', '29', '30', '31', '32', '33', '34', '35', '36', '37', '38', '39', '40', '41', '42', '43', '44', '45', '46', '47', '48', '49', '50', '51', '52', '53', '54', '55', '56', '57', '58', '59', '60', '61', '62', '63', '64', '65', '66', '67', '68', '69', '70', '71', '72', '73', '74', '75', '76', '77', '78', '79', '80', '81', '82', '83', '84', '85', '86', '87', '88', '89', '90', '91', '92', '93', '94'])"
      ]
     },
     "execution_count": 75,
     "metadata": {},
     "output_type": "execute_result"
    }
   ],
   "source": [
    "cb.iris_filtered.keys()"
   ]
  },
  {
   "cell_type": "code",
   "execution_count": 76,
   "metadata": {
    "collapsed": false
   },
   "outputs": [
    {
     "data": {
      "text/plain": [
       "80     751197316\n",
       "84     751176716\n",
       "102    751124502\n",
       "173    751103703\n",
       "445    751187104\n",
       "Name: ATOM_ID, dtype: object"
      ]
     },
     "execution_count": 76,
     "metadata": {},
     "output_type": "execute_result"
    }
   ],
   "source": [
    "cb.iris_filtered[\"75\"][\"ATOM_ID\"].head()"
   ]
  },
  {
   "cell_type": "code",
   "execution_count": null,
   "metadata": {
    "collapsed": false
   },
   "outputs": [],
   "source": []
  },
  {
   "cell_type": "code",
   "execution_count": null,
   "metadata": {
    "collapsed": false
   },
   "outputs": [],
   "source": []
  },
  {
   "cell_type": "code",
   "execution_count": null,
   "metadata": {
    "collapsed": false
   },
   "outputs": [],
   "source": []
  },
  {
   "cell_type": "code",
   "execution_count": null,
   "metadata": {
    "collapsed": false
   },
   "outputs": [
    {
     "name": "stdout",
     "output_type": "stream",
     "text": [
      "01\n",
      "Dissolve...\n",
      "Done\n",
      "02\n"
     ]
    },
    {
     "name": "stderr",
     "output_type": "stream",
     "text": [
      "/Users/guy/guy/03-projects/map-electorale/batch4_open_electoral_map/run.py:188: FutureWarning: Method `add_children` is deprecated. Please use `add_child` instead.\n",
      "  mapa.add_children(points)\n"
     ]
    },
    {
     "name": "stdout",
     "output_type": "stream",
     "text": [
      "Dissolve...\n",
      "Done\n",
      "03\n",
      "Dissolve...\n"
     ]
    }
   ],
   "source": [
    "cb.generate_maps(\"test\")"
   ]
  },
  {
   "cell_type": "code",
   "execution_count": null,
   "metadata": {
    "collapsed": false,
    "scrolled": true
   },
   "outputs": [],
   "source": [
    "cb.test"
   ]
  },
  {
   "cell_type": "code",
   "execution_count": 83,
   "metadata": {
    "collapsed": false,
    "scrolled": true
   },
   "outputs": [
    {
     "data": {
      "text/plain": [
       "<folium.features.GeoJson at 0x12dbc8208>"
      ]
     },
     "execution_count": 83,
     "metadata": {},
     "output_type": "execute_result"
    }
   ],
   "source": [
    "folium.features.GeoJson(cb.test[\"geometry\"])\n"
   ]
  },
  {
   "cell_type": "markdown",
   "metadata": {
    "collapsed": false
   },
   "source": []
  },
  {
   "cell_type": "code",
   "execution_count": 81,
   "metadata": {
    "collapsed": false
   },
   "outputs": [],
   "source": [
    "import folium"
   ]
  },
  {
   "cell_type": "code",
   "execution_count": 84,
   "metadata": {
    "collapsed": false
   },
   "outputs": [
    {
     "data": {
      "text/plain": [
       "Index(['CODE_IRIS', 'INSEE_COM', 'IRIS_x', 'NOM_COM', 'NOM_IRIS', 'TYP_IRIS_x',\n",
       "       'geometry', 'IRIS_y', 'REG', 'DEP', 'UU2010', 'COM', 'LIBCOM', 'TRIRIS',\n",
       "       'GRD_QUART', 'LIBIRIS', 'TYP_IRIS_y', 'MODIF_IRIS', 'LAB_IRIS',\n",
       "       'P14_POP', 'P14_POP0002', 'P14_POP0305', 'P14_POP0610', 'P14_POP1117',\n",
       "       'P14_POP1824', 'P14_POP2539', 'P14_POP4054', 'P14_POP5564',\n",
       "       'P14_POP6579', 'P14_POP80P', 'P14_POP0014', 'P14_POP1529',\n",
       "       'P14_POP3044', 'P14_POP4559', 'P14_POP6074', 'P14_POP75P',\n",
       "       'P14_POP0019', 'P14_POP2064', 'P14_POP65P', 'P14_POPH', 'P14_H0014',\n",
       "       'P14_H1529', 'P14_H3044', 'P14_H4559', 'P14_H6074', 'P14_H75P',\n",
       "       'P14_H0019', 'P14_H2064', 'P14_H65P', 'P14_POPF', 'P14_F0014',\n",
       "       'P14_F1529', 'P14_F3044', 'P14_F4559', 'P14_F6074', 'P14_F75P',\n",
       "       'P14_F0019', 'P14_F2064', 'P14_F65P', 'C14_POP15P', 'C14_POP15P_CS1',\n",
       "       'C14_POP15P_CS2', 'C14_POP15P_CS3', 'C14_POP15P_CS4', 'C14_POP15P_CS5',\n",
       "       'C14_POP15P_CS6', 'C14_POP15P_CS7', 'C14_POP15P_CS8', 'C14_H15P',\n",
       "       'C14_H15P_CS1', 'C14_H15P_CS2', 'C14_H15P_CS3', 'C14_H15P_CS4',\n",
       "       'C14_H15P_CS5', 'C14_H15P_CS6', 'C14_H15P_CS7', 'C14_H15P_CS8',\n",
       "       'C14_F15P', 'C14_F15P_CS1', 'C14_F15P_CS2', 'C14_F15P_CS3',\n",
       "       'C14_F15P_CS4', 'C14_F15P_CS5', 'C14_F15P_CS6', 'C14_F15P_CS7',\n",
       "       'C14_F15P_CS8', 'P14_POP_FR', 'P14_POP_ETR', 'P14_POP_IMM', 'P14_PMEN',\n",
       "       'P14_PHORMEN', 'ATOM_ID', 'departement_iris', 'centroid_lng',\n",
       "       'centroid_lat', 'c', 'coords', 'w'],\n",
       "      dtype='object')"
      ]
     },
     "execution_count": 84,
     "metadata": {},
     "output_type": "execute_result"
    }
   ],
   "source": [
    "cb.test.columns"
   ]
  },
  {
   "cell_type": "code",
   "execution_count": null,
   "metadata": {
    "collapsed": true
   },
   "outputs": [],
   "source": []
  },
  {
   "cell_type": "code",
   "execution_count": null,
   "metadata": {
    "collapsed": true
   },
   "outputs": [],
   "source": []
  }
 ],
 "metadata": {
  "kernelspec": {
   "display_name": "Python 3",
   "language": "python",
   "name": "python3"
  },
  "language_info": {
   "codemirror_mode": {
    "name": "ipython",
    "version": 3
   },
   "file_extension": ".py",
   "mimetype": "text/x-python",
   "name": "python",
   "nbconvert_exporter": "python",
   "pygments_lexer": "ipython3",
   "version": "3.6.5"
  }
 },
 "nbformat": 4,
 "nbformat_minor": 2
}
